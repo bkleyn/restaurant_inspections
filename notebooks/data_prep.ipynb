{
 "cells": [
  {
   "cell_type": "markdown",
   "metadata": {},
   "source": [
    "# Data processing\n",
    "\n",
    "Data pre-processing and exploratory analysis of restaurant inspections data before modeling"
   ]
  },
  {
   "cell_type": "code",
   "execution_count": 1,
   "metadata": {},
   "outputs": [],
   "source": [
    "import warnings\n",
    "warnings.filterwarnings(\"ignore\")\n",
    "\n",
    "import numpy as np\n",
    "import pandas as pd\n",
    "import distance\n",
    "import matplotlib.pyplot as plt\n",
    "import seaborn as sns\n",
    "\n",
    "from sklearn.ensemble import RandomForestRegressor\n",
    "from sklearn.linear_model import Lasso\n",
    "from sklearn.linear_model import LassoCV\n",
    "from sklearn.linear_model import LinearRegression\n",
    "from sklearn.linear_model import Ridge\n",
    "from sklearn.linear_model import RidgeCV\n",
    "from sklearn.metrics import r2_score\n",
    "from sklearn.model_selection import KFold\n",
    "from sklearn.model_selection import train_test_split\n",
    "from sklearn.preprocessing import Imputer\n",
    "from sklearn.preprocessing import PolynomialFeatures\n",
    "from sklearn.preprocessing import StandardScaler\n",
    "\n",
    "import statsmodels.api as sm\n",
    "from statsmodels.api import OLS\n",
    "\n",
    "pd.options.mode.chained_assignment = None\n",
    "pd.set_option('display.width', 500)\n",
    "pd.set_option('display.max_columns', 100)\n",
    "pd.set_option('display.max_rows', 500)\n",
    "\n",
    "%matplotlib inline\n",
    "\n",
    "PATH_YELP_DATA = '../data/yelp_data.csv'\n",
    "PATH_INSPECTIONS = '../data/nyc_restaurant_inspection_data.csv'\n",
    "PATH_DEMOGRAPHICS = '../data/demographics_zipcode.csv'"
   ]
  },
  {
   "cell_type": "markdown",
   "metadata": {},
   "source": [
    "## Data preparation"
   ]
  },
  {
   "cell_type": "code",
   "execution_count": 2,
   "metadata": {},
   "outputs": [],
   "source": [
    "def load_inspections (url=PATH_INSPECTIONS):\n",
    "    \"\"\"Creates DF from NYC inspections data and handles preliminary\n",
    "    data-cleaning. Sets CAMIS as index.\n",
    "\n",
    "    Raises:\n",
    "        RuntimeError if number of rows after cleaning data are fewer than 150K.\n",
    "    \"\"\"\n",
    "    df = pd.read_csv(url)\n",
    "    # Remove records not containing a zip code and ensure zip code is an int.\n",
    "    # df = df[df['ZIPCODE'].notnull()]\n",
    "    df['ZIPCODE'] = df['ZIPCODE'].astype(np.int64)\n",
    "    if len(df.index) < 150000:\n",
    "        raise RuntimeError('Inspections DF contains < 150,000 rows.')\n",
    "    return df\n",
    "\n",
    "\n",
    "def load_yelp (url=PATH_YELP_DATA):\n",
    "    \"\"\"Sets CAMIS as index.\"\"\"\n",
    "    df = pd.read_csv(url, encoding='ISO-8859-1')\n",
    "    df['zip_code'] = df['zip_code'].astype(np.int64)\n",
    "    df.set_index('CAMIS', inplace=True, drop=False)\n",
    "    if len(df.index) < 9500:\n",
    "        raise RuntimeError('Yelp DF contains < 9,500 rows.')\n",
    "    return df\n",
    "\n",
    "\n",
    "def load_complete_data ():\n",
    "    inspections = load_inspections()\n",
    "    yelp = load_yelp()\n",
    "    result = pd.merge(inspections, yelp, how='left', on='CAMIS')\n",
    "    return result"
   ]
  },
  {
   "cell_type": "code",
   "execution_count": 3,
   "metadata": {
    "scrolled": false
   },
   "outputs": [],
   "source": [
    "data = load_complete_data()"
   ]
  },
  {
   "cell_type": "code",
   "execution_count": 4,
   "metadata": {},
   "outputs": [
    {
     "name": "stdout",
     "output_type": "stream",
     "text": [
      "Number of observations: 157955\n",
      "Number of predictors: 33\n"
     ]
    }
   ],
   "source": [
    "# Check dimensions of dataset\n",
    "n, p = data.shape\n",
    "print(f\"Number of observations: {n}\")\n",
    "print(f\"Number of predictors: {p}\")"
   ]
  },
  {
   "cell_type": "code",
   "execution_count": 5,
   "metadata": {},
   "outputs": [
    {
     "data": {
      "text/plain": [
       "CAMIS                      int64\n",
       "DBA                       object\n",
       "BORO                      object\n",
       "BUILDING                  object\n",
       "STREET                    object\n",
       "ZIPCODE                    int64\n",
       "PHONE                     object\n",
       "CUISINE.DESCRIPTION       object\n",
       "INSPECTION.DATE           object\n",
       "ACTION                    object\n",
       "VIOLATION.CODE            object\n",
       "VIOLATION.DESCRIPTION     object\n",
       "CRITICAL.FLAG             object\n",
       "SCORE                    float64\n",
       "GRADE                     object\n",
       "GRADE.DATE                object\n",
       "RECORD.DATE                int64\n",
       "INSPECTION.TYPE           object\n",
       "id                        object\n",
       "name                      object\n",
       "url                       object\n",
       "phone                    float64\n",
       "latitude                 float64\n",
       "longitude                float64\n",
       "review_count               int64\n",
       "price                    float64\n",
       "rating                   float64\n",
       "transactions              object\n",
       "categories                object\n",
       "address                   object\n",
       "city                      object\n",
       "state                     object\n",
       "zip_code                   int64\n",
       "dtype: object"
      ]
     },
     "execution_count": 5,
     "metadata": {},
     "output_type": "execute_result"
    }
   ],
   "source": [
    "# Column names and types\n",
    "data.dtypes"
   ]
  },
  {
   "cell_type": "code",
   "execution_count": 6,
   "metadata": {},
   "outputs": [],
   "source": [
    "# Update column names with \"_\" separator\n",
    "data.columns = [c.replace(\".\", \"_\").lower() for c in data.columns]"
   ]
  },
  {
   "cell_type": "code",
   "execution_count": 7,
   "metadata": {},
   "outputs": [
    {
     "name": "stdout",
     "output_type": "stream",
     "text": [
      "camis: 9509\n",
      "zipcode: 196\n",
      "violation_code: 98\n",
      "cuisine_description: 83\n",
      "transactions: 13\n",
      "categories: 3446\n"
     ]
    }
   ],
   "source": [
    "# Number of unique values for specified columns\n",
    "cols = ['camis', 'zipcode', 'violation_code', 'cuisine_description', 'transactions', 'categories']\n",
    "for c in cols:\n",
    "    cnt = data[c].nunique()\n",
    "    print(\"{}: {}\".format(c, cnt))"
   ]
  },
  {
   "cell_type": "code",
   "execution_count": 8,
   "metadata": {},
   "outputs": [],
   "source": [
    "# Function to fix date formats \n",
    "from datetime import date, timedelta\n",
    "def get_excel_date(row):\n",
    "    if row==row:\n",
    "        try:\n",
    "            if len(row)==5:\n",
    "                return date(1900, 1, 1) + timedelta(int(row))\n",
    "            else:\n",
    "                return pd.to_datetime(row).strftime('%Y-%m-%d')\n",
    "        except:\n",
    "            None\n",
    "    else:\n",
    "        return None"
   ]
  },
  {
   "cell_type": "code",
   "execution_count": 9,
   "metadata": {},
   "outputs": [],
   "source": [
    "# Fix formats of date columns\n",
    "date_cols = ['inspection_date', 'grade_date', 'record_date']\n",
    "for col in date_cols:\n",
    "    data[col] = data[col].apply(get_excel_date)\n",
    "    \n",
    "# Create inspection date variables\n",
    "data['inspection_year'] = pd.DatetimeIndex(data['inspection_date']).year\n",
    "data['inspection_month'] = pd.DatetimeIndex(data['inspection_date']).month"
   ]
  },
  {
   "cell_type": "code",
   "execution_count": 10,
   "metadata": {},
   "outputs": [
    {
     "name": "stdout",
     "output_type": "stream",
     "text": [
      "Number of unique observations: 52472\n"
     ]
    }
   ],
   "source": [
    "# Drop observations with no score \n",
    "data = data[pd.notnull(data.score)]\n",
    "\n",
    "# Drop observations with a negative score\n",
    "data = data[data.score >= 0]\n",
    "      \n",
    "# Replace missing values with \"NULL\" \n",
    "#   This causes issues when doing group by below\n",
    "data.fillna(\"NULL\", inplace=True)\n",
    "\n",
    "# Number of unique observations (restaurant, inspection date)\n",
    "count = len(data[[\"camis\", \"inspection_date\"]].drop_duplicates())\n",
    "print(\"Number of unique observations: {}\".format(count))"
   ]
  },
  {
   "cell_type": "code",
   "execution_count": 11,
   "metadata": {},
   "outputs": [],
   "source": [
    "model_cols = ['camis',\n",
    "              'dba',\n",
    "              'boro',\n",
    "              'zipcode',\n",
    "              'cuisine_description',\n",
    "              'inspection_date',\n",
    "              'inspection_year',\n",
    "              'inspection_month',\n",
    "              'score',\n",
    "              'grade',\n",
    "              'name',\n",
    "              'latitude',\n",
    "              'longitude',\n",
    "              'review_count',\n",
    "              'price',\n",
    "              'rating',\n",
    "              'transactions',\n",
    "              'categories',\n",
    "              'city']\n",
    "\n",
    "# Group violations such that each observation in data is an individual inspection\n",
    "grp = data.groupby(model_cols, group_keys=True)['violation_code'].apply(list)\n",
    "data = pd.DataFrame(grp.reset_index())"
   ]
  },
  {
   "cell_type": "code",
   "execution_count": 12,
   "metadata": {},
   "outputs": [],
   "source": [
    "# Ensure observations are unique by camis and inspection date\n",
    "# Take observation with lowest score if multiple entries exist\n",
    "\n",
    "# Rank duplicate observations by score\n",
    "g = data.sort_values(['camis', 'inspection_date', 'score']).groupby(['camis', 'inspection_date'])\n",
    "data['RNK'] = g['score'].rank(method='first')\n",
    "\n",
    "# Drop duplicates\n",
    "n = len(data)\n",
    "data = data.loc[data.RNK == 1, :]\n",
    "data.drop('RNK', axis=1, inplace=True)\n",
    "\n",
    "# Set index\n",
    "data.set_index(['camis', 'inspection_date'], drop=False, verify_integrity=True, inplace=True)"
   ]
  },
  {
   "cell_type": "markdown",
   "metadata": {},
   "source": [
    "## Feature engineering"
   ]
  },
  {
   "cell_type": "markdown",
   "metadata": {},
   "source": [
    "**Cuisine description**"
   ]
  },
  {
   "cell_type": "code",
   "execution_count": 13,
   "metadata": {},
   "outputs": [],
   "source": [
    "def fix_cuisine_format(row):\n",
    "\n",
    "    mapping = {\n",
    "        'Bottled beverages, including water, sodas, juices, etc.': 'Bottled_beverages',\n",
    "        'CafÃ©/Coffee/Tea': 'Coffee_Tea',\n",
    "        'Ice Cream, Gelato, Yogurt, Ices': 'IceCream_Gelato',\n",
    "        'Juice, Smoothies, Fruit Salads': 'Juice_Smoothies',\n",
    "        'Latin (Cuban, Dominican, Puerto Rican, South & Central American)': 'Latin',\n",
    "        'Sandwiches/Salads/Mixed Buffet': 'Sandwiches',\n",
    "        'Soups & Sandwiches': 'Sandwiches',\n",
    "        'Tex-Mex': 'TexMex'\n",
    "    }\n",
    "    \n",
    "    try:\n",
    "        row = mapping[row]\n",
    "    except:\n",
    "        row = row.strip().replace(\"/\", \"_\").replace(\" \", \"_\")\n",
    "    \n",
    "    return row\n",
    "        \n",
    "data['cuisine_description'] = data['cuisine_description'].apply(fix_cuisine_format)"
   ]
  },
  {
   "cell_type": "code",
   "execution_count": 14,
   "metadata": {},
   "outputs": [],
   "source": [
    "def fix_list_format(row):\n",
    "    \n",
    "    row = str(row)\n",
    "    \n",
    "    chars = ''''\"[]'''\n",
    "    for c in chars:\n",
    "        row = row.strip().replace(c, \"\")\n",
    "    row = row.replace(\",\", \"|\").replace(\" \", \"\")\n",
    "    \n",
    "    return row"
   ]
  },
  {
   "cell_type": "markdown",
   "metadata": {},
   "source": [
    "**Transactions**"
   ]
  },
  {
   "cell_type": "code",
   "execution_count": 15,
   "metadata": {},
   "outputs": [],
   "source": [
    "# Clean values\n",
    "data['transactions'] = data['transactions'].apply(fix_list_format)\n",
    "\n",
    "# Get unique set of transactions\n",
    "transactions = set()\n",
    "for s in data.transactions:\n",
    "    transactions.update(s.split('|'))\n",
    "\n",
    "# Create separate columns for each unique value\n",
    "for txn in transactions:\n",
    "    data[\"trans_\" + txn] = [1 if txn in t.split('|') else 0 for t in data.transactions]\n",
    "    \n",
    "# Drop column\n",
    "data.drop('transactions', axis=1, inplace=True)"
   ]
  },
  {
   "cell_type": "markdown",
   "metadata": {},
   "source": [
    "**Categories**"
   ]
  },
  {
   "cell_type": "code",
   "execution_count": 16,
   "metadata": {
    "scrolled": false
   },
   "outputs": [
    {
     "name": "stdout",
     "output_type": "stream",
     "text": [
      "Total number of category combinations: 3423\n",
      "Total number of unique categories: 309\n"
     ]
    }
   ],
   "source": [
    "# Clean up categories column\n",
    "data['categories'] = data['categories'].apply(fix_list_format)\n",
    "print(\"Total number of category combinations: {}\".format(data.categories.nunique()))\n",
    "\n",
    "# Get set of unique categories\n",
    "categories = set()\n",
    "for s in data.categories:\n",
    "    categories.update(s.split('|'))\n",
    "print(\"Total number of unique categories: {}\".format(len(categories)))\n",
    "\n",
    "# Create column for each unique category and encode \n",
    "#    Might need to refine this later to reduce dimensionality\n",
    "for cat in categories:\n",
    "    data[\"cat_\" + cat] = [1 if cat in c.split('|') else 0 for c in data.categories]\n",
    "    \n",
    "# Drop column\n",
    "data.drop('categories', axis=1, inplace=True)"
   ]
  },
  {
   "cell_type": "markdown",
   "metadata": {},
   "source": [
    "**Violations**"
   ]
  },
  {
   "cell_type": "code",
   "execution_count": 17,
   "metadata": {},
   "outputs": [
    {
     "name": "stdout",
     "output_type": "stream",
     "text": [
      "Total number of violation combinations: 17796\n",
      "Total number of unique violations: 70\n"
     ]
    }
   ],
   "source": [
    "# Clean up categories column\n",
    "data['violation_code'] = data['violation_code'].apply(fix_list_format)\n",
    "print(\"Total number of violation combinations: {}\".format(data.violation_code.nunique()))\n",
    "\n",
    "# Get set of unique categories\n",
    "violations = set()\n",
    "for s in data.violation_code:\n",
    "    violations.update(s.split('|'))\n",
    "print(\"Total number of unique violations: {}\".format(len(violations)))\n",
    "\n",
    "# Create column for each unique category and encode \n",
    "#    Might need to refine this later to reduce dimensionality\n",
    "for vcode in violations:\n",
    "    data[\"violation_\" + vcode] = [1 if vcode in v.split('|') else 0 for v in data.violation_code]\n",
    "    \n",
    "# Drop column\n",
    "data.drop('violation_code', axis=1, inplace=True)"
   ]
  },
  {
   "cell_type": "markdown",
   "metadata": {},
   "source": [
    "**Restaurant name**"
   ]
  },
  {
   "cell_type": "code",
   "execution_count": 18,
   "metadata": {},
   "outputs": [],
   "source": [
    "# Length of restuarant name in inspection data\n",
    "data[\"restaurant_name_len\"] = data[\"dba\"].apply(len)\n",
    "\n",
    "# Length of restaurant name in Yelp data\n",
    "data[\"restaurant_name_len_yelp\"] = data[\"name\"].apply(len)\n",
    "\n",
    "# Similarity of names in inspection data and Yelp data\n",
    "data[\"restaurant_name_sim\"] = data.apply(lambda row: distance.levenshtein(row[\"dba\"], row[\"name\"]), axis=1)\n",
    "\n",
    "# Number of observations by restaurant \n",
    "df = data.dba.value_counts().reset_index()\n",
    "df.columns = ['dba', 'restaurant_name_count']\n",
    "data = pd.merge(data, df, how='left', on='dba')\n",
    "\n",
    "# Create initial flag for restaurant chains (count > 50)\n",
    "data[\"restaurant_name_chain\"] = data['restaurant_name_count'].apply(lambda x: 1 if x > 50 else 0)\n",
    "\n",
    "# Drop column\n",
    "data.drop('name', axis=1, inplace=True)"
   ]
  },
  {
   "cell_type": "markdown",
   "metadata": {},
   "source": [
    "**Demographics by zipcode**"
   ]
  },
  {
   "cell_type": "code",
   "execution_count": 19,
   "metadata": {},
   "outputs": [],
   "source": [
    "# Import data\n",
    "cen_data = pd.read_csv(PATH_DEMOGRAPHICS)\n",
    "\n",
    "# Update column names\n",
    "cen_data.columns =  [\"cen_\" + c.replace(\" \", \"_\").lower() for c in cen_data.columns]\n",
    "cen_data.columns.values[0] = 'zipcode'\n",
    "\n",
    "# Merge onto base dataset\n",
    "data = pd.merge(data, cen_data, how='left', on='zipcode')"
   ]
  },
  {
   "cell_type": "markdown",
   "metadata": {},
   "source": [
    "**Region**"
   ]
  },
  {
   "cell_type": "code",
   "execution_count": 20,
   "metadata": {},
   "outputs": [],
   "source": [
    "# Borough\n",
    "##########\n",
    "\n",
    "# Create dummy variables\n",
    "col = 'boro'\n",
    "df = pd.get_dummies(data[col], prefix=col)\n",
    "data = data.join(df)\n",
    "data.drop(col, axis=1, inplace=True)\n",
    "\n",
    "# City\n",
    "#########\n",
    "\n",
    "# Group areas with low volumes\n",
    "col = 'city'\n",
    "counts = list(pd.value_counts(data[col]).index[:30])\n",
    "data[col] = data[col].apply(lambda row: row if row in counts else 'Other')\n",
    "\n",
    "# Create dummy variables\n",
    "df = pd.get_dummies(data[col], prefix=col)\n",
    "data = data.join(df)\n",
    "data.drop(col, axis=1, inplace=True)"
   ]
  },
  {
   "cell_type": "code",
   "execution_count": 21,
   "metadata": {
    "scrolled": false
   },
   "outputs": [],
   "source": [
    "# Clean up column names (lowercase and no spaces)\n",
    "data.columns = [c.replace(\".\", \"_\").lower() for c in data.columns]\n",
    "\n",
    "# Replace NULL with NA again\n",
    "data.replace(\"NULL\", np.nan, inplace=True)\n",
    "\n",
    "# Impute missing values (categorical)\n",
    "cols = ['rating', 'price']\n",
    "imp = Imputer(missing_values=\"NaN\", strategy=\"most_frequent\")\n",
    "data[cols] = imp.fit_transform(data[cols])\n",
    "\n",
    "# Census values\n",
    "imp = Imputer(missing_values=\"NaN\", strategy=\"mean\")\n",
    "cols = [c for c in data.columns if c[:3] == \"cen\"]\n",
    "data[cols] = imp.fit_transform(data[cols])\n",
    "\n",
    "# Reorder columns\n",
    "cols = list(data.columns)\n",
    "target_cols = ['grade', 'score']\n",
    "for c in target_cols:\n",
    "    cols.remove(c)\n",
    "    cols.append(c)\n",
    "\n",
    "data = data[cols]\n",
    "\n",
    "#Export data to csv\n",
    "#data.to_csv('data/model_data.csv')"
   ]
  },
  {
   "cell_type": "markdown",
   "metadata": {},
   "source": [
    "## Exploratory data analysis"
   ]
  },
  {
   "cell_type": "code",
   "execution_count": 22,
   "metadata": {},
   "outputs": [
    {
     "data": {
      "image/png": "[encoded data removed]",
      "text/plain": [
       "<matplotlib.figure.Figure at 0x19ef099f160>"
      ]
     },
     "metadata": {},
     "output_type": "display_data"
    }
   ],
   "source": [
    "# Distribution of score\n",
    "fig, ax = plt.subplots(1, 1, figsize=(10, 6))\n",
    "ax.set_xlim(0, 80)\n",
    "ax.set_title(\"Distribution of score\")\n",
    "sns.distplot(data.score, kde=False);"
   ]
  },
  {
   "cell_type": "code",
   "execution_count": 23,
   "metadata": {},
   "outputs": [
    {
     "data": {
      "image/png": "[encoded data removed]",
      "text/plain": [
       "<matplotlib.figure.Figure at 0x19ef09a40b8>"
      ]
     },
     "metadata": {},
     "output_type": "display_data"
    }
   ],
   "source": [
    "# Distribution of log score\n",
    "fig, ax = plt.subplots(1, 1, figsize=(10, 6))\n",
    "ax.set_xlim(0, 6)\n",
    "ax.set_title(\"Distribution of log score\")\n",
    "sns.distplot(np.log(data.score+2), bins=30, kde=False);"
   ]
  },
  {
   "cell_type": "code",
   "execution_count": 24,
   "metadata": {},
   "outputs": [
    {
     "data": {
      "image/png": "[encoded data removed]",
      "text/plain": [
       "<matplotlib.figure.Figure at 0x19ef098ad30>"
      ]
     },
     "metadata": {},
     "output_type": "display_data"
    }
   ],
   "source": [
    "# Distribution of sqrt score\n",
    "fig, ax = plt.subplots(1, 1, figsize=(10, 6))\n",
    "ax.set_xlim(0, 6)\n",
    "ax.set_title(\"Distribution of sqrt score\")\n",
    "sns.distplot(np.sqrt(data.score+1), bins=50, kde=False);"
   ]
  },
  {
   "cell_type": "code",
   "execution_count": 25,
   "metadata": {},
   "outputs": [
    {
     "data": {
      "image/png": "[encoded data removed]",
      "text/plain": [
       "<matplotlib.figure.Figure at 0x19eec4da048>"
      ]
     },
     "metadata": {},
     "output_type": "display_data"
    }
   ],
   "source": [
    "# Distribution of rating\n",
    "fig, ax = plt.subplots(1, 1, figsize=(10, 6))\n",
    "ax.set_title(\"Distribution of rating\")\n",
    "sns.countplot(x=\"rating\", data=data, color='green', alpha=0.5);"
   ]
  },
  {
   "cell_type": "code",
   "execution_count": 26,
   "metadata": {},
   "outputs": [
    {
     "data": {
      "image/png": "[encoded data removed]",
      "text/plain": [
       "<matplotlib.figure.Figure at 0x19ef099fe10>"
      ]
     },
     "metadata": {},
     "output_type": "display_data"
    }
   ],
   "source": [
    "# Distribution of number of reviews\n",
    "fig, ax = plt.subplots(1, 1, figsize=(10, 6))\n",
    "ax.set_title(\"Distribution of review count\")\n",
    "ax.set_xlim(0, 1000)\n",
    "sns.distplot(data.review_count, kde=False, bins=200, color='green');"
   ]
  },
  {
   "cell_type": "code",
   "execution_count": 27,
   "metadata": {},
   "outputs": [
    {
     "data": {
      "image/png": "[encoded data removed]",
      "text/plain": [
       "<matplotlib.figure.Figure at 0x19ef09b01d0>"
      ]
     },
     "metadata": {},
     "output_type": "display_data"
    }
   ],
   "source": [
    "# Distribution of scores by rating\n",
    "fig, ax = plt.subplots(1, 1, figsize=(10, 6))\n",
    "data['log_score'] = np.log(data['score']+2)\n",
    "sns.boxplot(x=\"rating\", y=\"log_score\", data=data, color='grey', saturation=0.5);"
   ]
  },
  {
   "cell_type": "code",
   "execution_count": 28,
   "metadata": {},
   "outputs": [
    {
     "data": {
      "image/png": "[encoded data removed]",
      "text/plain": [
       "<matplotlib.figure.Figure at 0x19ef099fe80>"
      ]
     },
     "metadata": {},
     "output_type": "display_data"
    }
   ],
   "source": [
    "# Distribution of scores by restaurant chain flag\n",
    "fig, ax = plt.subplots(1, 1, figsize=(10, 6))\n",
    "sns.boxplot(x=\"restaurant_name_chain\", y=\"log_score\", data=data, color='grey', saturation=0.5);"
   ]
  },
  {
   "cell_type": "code",
   "execution_count": 29,
   "metadata": {},
   "outputs": [
    {
     "data": {
      "image/png": "[encoded data removed]",
      "text/plain": [
       "<matplotlib.figure.Figure at 0x19ef0abf278>"
      ]
     },
     "metadata": {},
     "output_type": "display_data"
    }
   ],
   "source": [
    "# Distribution of scores by restaurant chain flag\n",
    "fig, ax = plt.subplots(1, 1, figsize=(10, 6))\n",
    "sns.boxplot(x=\"price\", y=\"log_score\", data=data, color='grey', saturation=0.5);"
   ]
  },
  {
   "cell_type": "code",
   "execution_count": 30,
   "metadata": {},
   "outputs": [
    {
     "data": {
      "image/png": "[encoded data removed]",
      "text/plain": [
       "<matplotlib.figure.Figure at 0x19ef0dbe828>"
      ]
     },
     "metadata": {},
     "output_type": "display_data"
    }
   ],
   "source": [
    "# Distribution of scores by restaurant chain flag\n",
    "fig, ax = plt.subplots(1, 1, figsize=(10, 6))\n",
    "sns.boxplot(x=\"inspection_month\", y=\"log_score\", data=data, color='grey', saturation=0.5);"
   ]
  },
  {
   "cell_type": "code",
   "execution_count": 31,
   "metadata": {},
   "outputs": [
    {
     "data": {
      "image/png": "[encoded data removed]",
      "text/plain": [
       "<matplotlib.figure.Figure at 0x19ef0b73f60>"
      ]
     },
     "metadata": {},
     "output_type": "display_data"
    }
   ],
   "source": [
    "df = data.sample(500)\n",
    "\n",
    "# Distribution of scores by restaurant chain flag\n",
    "fig, ax = plt.subplots(1, 1, figsize=(10, 6))\n",
    "ax.set_xlim(0, 1000)\n",
    "sns.regplot(x=\"review_count\", y=\"log_score\", data=df);"
   ]
  },
  {
   "cell_type": "code",
   "execution_count": 32,
   "metadata": {},
   "outputs": [
    {
     "data": {
      "image/png": "[encoded data removed]",
      "text/plain": [
       "<matplotlib.figure.Figure at 0x19ef0971d30>"
      ]
     },
     "metadata": {},
     "output_type": "display_data"
    }
   ],
   "source": [
    "df = data.sample(500)\n",
    "\n",
    "# Distribution of scores by restaurant chain flag\n",
    "fig, ax = plt.subplots(1, 1, figsize=(10, 6))\n",
    "ax.set_xlim(0, 30)\n",
    "sns.regplot(x=\"restaurant_name_len\", y=\"log_score\", data=df);"
   ]
  },
  {
   "cell_type": "markdown",
   "metadata": {},
   "source": [
    "## Initial modeling"
   ]
  },
  {
   "cell_type": "markdown",
   "metadata": {},
   "source": [
    "**Let's just look at couple of predictors to start**"
   ]
  },
  {
   "cell_type": "code",
   "execution_count": 33,
   "metadata": {},
   "outputs": [
    {
     "name": "stdout",
     "output_type": "stream",
     "text": [
      "                            OLS Regression Results                            \n",
      "==============================================================================\n",
      "Dep. Variable:                      y   R-squared:                       0.001\n",
      "Model:                            OLS   Adj. R-squared:                  0.001\n",
      "Method:                 Least Squares   F-statistic:                     10.29\n",
      "Date:                Mon, 16 Jul 2018   Prob (F-statistic):           9.14e-07\n",
      "Time:                        17:52:58   Log-Likelihood:                -22483.\n",
      "No. Observations:               26230   AIC:                         4.497e+04\n",
      "Df Residuals:                   26226   BIC:                         4.501e+04\n",
      "Df Model:                           3                                         \n",
      "Covariance Type:            nonrobust                                         \n",
      "================================================================================\n",
      "                   coef    std err          t      P>|t|      [0.025      0.975]\n",
      "--------------------------------------------------------------------------------\n",
      "const            2.6866      0.020    136.322      0.000       2.648       2.725\n",
      "review_count   4.73e-05   1.23e-05      3.858      0.000    2.33e-05    7.13e-05\n",
      "price            0.0121      0.006      2.039      0.041       0.000       0.024\n",
      "rating          -0.0180      0.005     -3.563      0.000      -0.028      -0.008\n",
      "==============================================================================\n",
      "Omnibus:                      774.245   Durbin-Watson:                   1.994\n",
      "Prob(Omnibus):                  0.000   Jarque-Bera (JB):             1439.236\n",
      "Skew:                          -0.233   Prob(JB):                         0.00\n",
      "Kurtosis:                       4.048   Cond. No.                     2.02e+03\n",
      "==============================================================================\n",
      "\n",
      "Warnings:\n",
      "[1] Standard Errors assume that the covariance matrix of the errors is correctly specified.\n",
      "[2] The condition number is large, 2.02e+03. This might indicate that there are\n",
      "strong multicollinearity or other numerical problems.\n"
     ]
    }
   ],
   "source": [
    "model_cols = ['review_count', 'price', 'rating', 'log_score']\n",
    "\n",
    "# Get predictors and response\n",
    "df = data[model_cols]\n",
    "\n",
    "# Create train and test sets\n",
    "train_df, test_df = train_test_split(df, test_size=0.5, random_state=87)\n",
    "\n",
    "# Model predictors\n",
    "X_train = train_df.iloc[:,:-1].values\n",
    "X_test = test_df.iloc[:,:-1].values\n",
    "\n",
    "X_train = sm.add_constant(X_train)\n",
    "X_test = sm.add_constant(X_test)\n",
    "\n",
    "# Response\n",
    "y_train = train_df.iloc[:,-1].values\n",
    "y_test = test_df.iloc[:,-1].values\n",
    "\n",
    "# Fit model\n",
    "mod = OLS(y_train, X_train)\n",
    "res = mod.fit()\n",
    "\n",
    "# Print summary statistics\n",
    "names = ['const'] + list(train_df.columns[:-1])\n",
    "print(res.summary(xname=names))"
   ]
  },
  {
   "cell_type": "markdown",
   "metadata": {},
   "source": [
    "**Violation codes? Expected to be very correlated by construction**"
   ]
  },
  {
   "cell_type": "code",
   "execution_count": 34,
   "metadata": {
    "scrolled": false
   },
   "outputs": [
    {
     "name": "stdout",
     "output_type": "stream",
     "text": [
      "                            OLS Regression Results                            \n",
      "==============================================================================\n",
      "Dep. Variable:                      y   R-squared:                       0.267\n",
      "Model:                            OLS   Adj. R-squared:                  0.266\n",
      "Method:                 Least Squares   F-statistic:                     530.0\n",
      "Date:                Mon, 16 Jul 2018   Prob (F-statistic):               0.00\n",
      "Time:                        17:52:58   Log-Likelihood:                -18428.\n",
      "No. Observations:               26230   AIC:                         3.689e+04\n",
      "Df Residuals:                   26211   BIC:                         3.705e+04\n",
      "Df Model:                          18                                         \n",
      "Covariance Type:            nonrobust                                         \n",
      "=================================================================================\n",
      "                    coef    std err          t      P>|t|      [0.025      0.975]\n",
      "---------------------------------------------------------------------------------\n",
      "const             2.4260      0.004    624.366      0.000       2.418       2.434\n",
      "violation_10g     0.2590      0.173      1.499      0.134      -0.080       0.598\n",
      "violation_02j -1.488e-16   4.04e-16     -0.368      0.713    -9.4e-16    6.43e-16\n",
      "violation_04c     0.3915      0.018     21.412      0.000       0.356       0.427\n",
      "violation_02g     0.4499      0.007     60.839      0.000       0.435       0.464\n",
      "violation_07a     0.9607      0.219      4.394      0.000       0.532       1.389\n",
      "violation_02d     0.1874      0.173      1.084      0.278      -0.151       0.526\n",
      "violation_05i -1.419e-15   3.69e-16     -3.849      0.000   -2.14e-15   -6.97e-16\n",
      "violation_02h     0.3602      0.017     21.566      0.000       0.327       0.393\n",
      "violation_04a     0.5511      0.014     39.397      0.000       0.524       0.579\n",
      "violation_06b     0.2849      0.022     13.118      0.000       0.242       0.327\n",
      "violation_08b     0.0668      0.036      1.878      0.060      -0.003       0.137\n",
      "violation_02b     0.4261      0.009     48.858      0.000       0.409       0.443\n",
      "violation_04i     0.0589      0.489      0.120      0.904      -0.899       1.017\n",
      "violation_02c     0.2650      0.048      5.546      0.000       0.171       0.359\n",
      "violation_10i     0.0373      0.018      2.034      0.042       0.001       0.073\n",
      "violation_02i     0.2628      0.083      3.178      0.001       0.101       0.425\n",
      "violation_04d     0.5755      0.072      7.977      0.000       0.434       0.717\n",
      "violation_04k     0.4028      0.022     18.323      0.000       0.360       0.446\n",
      "violation_09c     0.1098      0.016      6.766      0.000       0.078       0.142\n",
      "violation_04b     0.5128      0.185      2.776      0.006       0.151       0.875\n",
      "==============================================================================\n",
      "Omnibus:                      949.151   Durbin-Watson:                   2.015\n",
      "Prob(Omnibus):                  0.000   Jarque-Bera (JB):             2483.584\n",
      "Skew:                          -0.152   Prob(JB):                         0.00\n",
      "Kurtosis:                       4.476   Cond. No.                     4.10e+17\n",
      "==============================================================================\n",
      "\n",
      "Warnings:\n",
      "[1] Standard Errors assume that the covariance matrix of the errors is correctly specified.\n",
      "[2] The smallest eigenvalue is 1.69e-31. This might indicate that there are\n",
      "strong multicollinearity problems or that the design matrix is singular.\n"
     ]
    }
   ],
   "source": [
    "model_cols = [c for c in data.columns if \"violation\" in c][:20]\n",
    "model_cols.append('log_score')\n",
    "\n",
    "# Get predictors and response\n",
    "df = data[model_cols]\n",
    "\n",
    "# Create train and test sets\n",
    "train_df, test_df = train_test_split(df, test_size=0.5, random_state=87)\n",
    "\n",
    "# Model predictors\n",
    "X_train = train_df.iloc[:,:-1].values\n",
    "X_test = test_df.iloc[:,:-1].values\n",
    "\n",
    "X_train = sm.add_constant(X_train)\n",
    "X_test = sm.add_constant(X_test)\n",
    "\n",
    "# Response\n",
    "y_train = train_df.iloc[:,-1].values\n",
    "y_test = test_df.iloc[:,-1].values\n",
    "\n",
    "# Fit model\n",
    "mod = OLS(y_train, X_train)\n",
    "res = mod.fit()\n",
    "\n",
    "# Print summary statistics\n",
    "names = ['const'] + list(train_df.columns[:-1])\n",
    "print(res.summary(xname=names))"
   ]
  },
  {
   "cell_type": "markdown",
   "metadata": {},
   "source": [
    "**Areas? Don't expect this to be very important**"
   ]
  },
  {
   "cell_type": "code",
   "execution_count": 35,
   "metadata": {},
   "outputs": [
    {
     "name": "stdout",
     "output_type": "stream",
     "text": [
      "                            OLS Regression Results                            \n",
      "==============================================================================\n",
      "Dep. Variable:                      y   R-squared:                       0.003\n",
      "Model:                            OLS   Adj. R-squared:                  0.002\n",
      "Method:                 Least Squares   F-statistic:                     2.995\n",
      "Date:                Mon, 16 Jul 2018   Prob (F-statistic):           7.20e-08\n",
      "Time:                        17:52:58   Log-Likelihood:                -22453.\n",
      "No. Observations:               26230   AIC:                         4.497e+04\n",
      "Df Residuals:                   26199   BIC:                         4.522e+04\n",
      "Df Model:                          30                                         \n",
      "Covariance Type:            nonrobust                                         \n",
      "============================================================================================\n",
      "                               coef    std err          t      P>|t|      [0.025      0.975]\n",
      "--------------------------------------------------------------------------------------------\n",
      "const                        2.5507      0.009    273.954      0.000       2.532       2.569\n",
      "city_astoria                 0.0298      0.023      1.277      0.202      -0.016       0.075\n",
      "city_bayside                 0.0133      0.041      0.323      0.746      -0.067       0.094\n",
      "city_bronx                   0.0870      0.017      5.051      0.000       0.053       0.121\n",
      "city_brooklyn                0.1092      0.012      9.320      0.000       0.086       0.132\n",
      "city_bushwick               -0.0459      0.091     -0.503      0.615      -0.225       0.133\n",
      "city_corona                  0.1674      0.048      3.507      0.000       0.074       0.261\n",
      "city_elmhurst                0.0513      0.039      1.317      0.188      -0.025       0.128\n",
      "city_flushing                0.1401      0.025      5.671      0.000       0.092       0.188\n",
      "city_forest hills           -0.0273      0.038     -0.723      0.470      -0.101       0.047\n",
      "city_fresh meadows           0.0900      0.069      1.303      0.193      -0.045       0.225\n",
      "city_howard beach            0.1071      0.064      1.684      0.092      -0.018       0.232\n",
      "city_jackson heights         0.1745      0.031      5.547      0.000       0.113       0.236\n",
      "city_jamaica                 0.1644      0.035      4.757      0.000       0.097       0.232\n",
      "city_long island city        0.0864      0.033      2.591      0.010       0.021       0.152\n",
      "city_manhattan              -0.0467      0.047     -0.995      0.320      -0.139       0.045\n",
      "city_maspeth                 0.2038      0.071      2.882      0.004       0.065       0.342\n",
      "city_new york                0.1081      0.011     10.245      0.000       0.087       0.129\n",
      "city_other                   0.0588      0.019      3.039      0.002       0.021       0.097\n",
      "city_ozone park             -0.0215      0.062     -0.344      0.730      -0.144       0.101\n",
      "city_queens                  0.0819      0.042      1.954      0.051      -0.000       0.164\n",
      "city_queens village          0.2089      0.059      3.527      0.000       0.093       0.325\n",
      "city_rego park               0.0676      0.055      1.221      0.222      -0.041       0.176\n",
      "city_richmond hill           0.0986      0.094      1.052      0.293      -0.085       0.282\n",
      "city_ridgewood               0.0312      0.041      0.763      0.446      -0.049       0.111\n",
      "city_south ozone park        0.1092      0.068      1.617      0.106      -0.023       0.242\n",
      "city_south richmond hill    -0.0500      0.081     -0.617      0.537      -0.209       0.109\n",
      "city_staten island           0.1529      0.022      6.822      0.000       0.109       0.197\n",
      "city_sunnyside               0.0839      0.048      1.758      0.079      -0.010       0.177\n",
      "city_whitestone              0.0142      0.083      0.172      0.864      -0.148       0.176\n",
      "city_woodhaven               0.2163      0.065      3.316      0.001       0.088       0.344\n",
      "city_woodside                0.0863      0.040      2.152      0.031       0.008       0.165\n",
      "==============================================================================\n",
      "Omnibus:                      778.582   Durbin-Watson:                   1.995\n",
      "Prob(Omnibus):                  0.000   Jarque-Bera (JB):             1430.245\n",
      "Skew:                          -0.239   Prob(JB):                    2.67e-311\n",
      "Kurtosis:                       4.040   Cond. No.                     1.50e+15\n",
      "==============================================================================\n",
      "\n",
      "Warnings:\n",
      "[1] Standard Errors assume that the covariance matrix of the errors is correctly specified.\n",
      "[2] The smallest eigenvalue is 1.53e-26. This might indicate that there are\n",
      "strong multicollinearity problems or that the design matrix is singular.\n"
     ]
    }
   ],
   "source": [
    "model_cols = [c for c in data.columns if c[:4] == \"city\"]\n",
    "model_cols.append('log_score')\n",
    "\n",
    "# Get predictors and response\n",
    "df = data[model_cols]\n",
    "\n",
    "# Create train and test sets\n",
    "train_df, test_df = train_test_split(df, test_size=0.5, random_state=87)\n",
    "\n",
    "# Model predictors\n",
    "X_train = train_df.iloc[:,:-1].values\n",
    "X_test = test_df.iloc[:,:-1].values\n",
    "\n",
    "X_train = sm.add_constant(X_train)\n",
    "X_test = sm.add_constant(X_test)\n",
    "\n",
    "# Response\n",
    "y_train = train_df.iloc[:,-1].values\n",
    "y_test = test_df.iloc[:,-1].values\n",
    "\n",
    "# Fit model\n",
    "mod = OLS(y_train, X_train)\n",
    "res = mod.fit()\n",
    "\n",
    "# Print summary statistics\n",
    "names = ['const'] + list(train_df.columns[:-1])\n",
    "print(res.summary(xname=names))"
   ]
  },
  {
   "cell_type": "code",
   "execution_count": 36,
   "metadata": {
    "scrolled": false
   },
   "outputs": [
    {
     "name": "stdout",
     "output_type": "stream",
     "text": [
      "Training R-squared: 0.0286\n"
     ]
    }
   ],
   "source": [
    "# Let's fit a LASSO model to subset the most important features\n",
    "\n",
    "first_index = data.columns.get_loc(\"review_count\")\n",
    "last_index = data.columns.get_loc(\"city_woodside\")\n",
    "\n",
    "model_cols = list(data.columns[first_index: last_index + 1])\n",
    "model_cols = [c for c in model_cols if \"violation\" not in c]\n",
    "model_cols.append('log_score')\n",
    "\n",
    "# Get predictors and response\n",
    "df = data[model_cols]\n",
    "\n",
    "# Model predictors\n",
    "X_train = df.iloc[:,:-1].values\n",
    "\n",
    "scaler = StandardScaler()\n",
    "X_train = scaler.fit_transform(X_train)\n",
    "\n",
    "# Response\n",
    "y_train = df.iloc[:,-1].values\n",
    "\n",
    "# Fit LASSO model\n",
    "shrinkage = [0.01]\n",
    "mod = LassoCV(alphas=shrinkage, cv=10)\n",
    "lasso = mod.fit(X_train, y_train)\n",
    "\n",
    "# Print summary statistics\n",
    "df = pd.DataFrame(lasso.coef_, columns=[\"Coefficient\"], index=model_cols[:-1])\n",
    "df[df.Coefficient != 0]\n",
    "\n",
    "rsq = r2_score(y_train, lasso.predict(X_train))\n",
    "print(\"Training R-squared: {0:.4f}\".format(rsq))"
   ]
  },
  {
   "cell_type": "markdown",
   "metadata": {},
   "source": [
    "## Add more features"
   ]
  },
  {
   "cell_type": "code",
   "execution_count": 37,
   "metadata": {},
   "outputs": [],
   "source": [
    "data_keep = data.copy()"
   ]
  },
  {
   "cell_type": "markdown",
   "metadata": {},
   "source": [
    "**Cuisine description**"
   ]
  },
  {
   "cell_type": "code",
   "execution_count": 38,
   "metadata": {},
   "outputs": [],
   "source": [
    "# Group areas with low volumes\n",
    "col = 'cuisine_description'\n",
    "counts = list(pd.value_counts(data[col]).index[:30])\n",
    "data[col] = data[col].apply(lambda row: row if row in counts else 'Other')\n",
    "\n",
    "# Create dummy variables\n",
    "df = pd.get_dummies(data[col], prefix=col)\n",
    "data = data.join(df)\n",
    "data.drop(col, axis=1, inplace=True)"
   ]
  },
  {
   "cell_type": "markdown",
   "metadata": {},
   "source": [
    "**Previous score / time since previous inspection**"
   ]
  },
  {
   "cell_type": "code",
   "execution_count": 39,
   "metadata": {},
   "outputs": [],
   "source": [
    "import warnings\n",
    "warnings.filterwarnings('ignore')\n",
    "\n",
    "data = data_keep.copy()\n",
    "\n",
    "# Join on previous scores\n",
    "df = pd.merge(data[['camis', 'inspection_date']],\n",
    "              data[['camis', 'inspection_date', 'score']], on='camis', suffixes=('', '_prev'))\n",
    "df = df.loc[df['inspection_date'] > df['inspection_date_prev'], :]\n",
    "\n",
    "# Months since previous inspection\n",
    "df['time_since_prev'] = df['inspection_date'] - df['inspection_date_prev']\n",
    "\n",
    "# Most recent score\n",
    "g = df.sort_values(['camis', 'inspection_date', 'time_since_prev']).groupby(['camis', 'inspection_date'])\n",
    "df['rnk'] = g['time_since_prev'].rank(method='first')\n",
    "\n",
    "# Average historic scores\n",
    "df.set_index(['camis', 'inspection_date'], inplace=True, drop=False)\n",
    "g = df.groupby(['camis', 'inspection_date'])['score']\n",
    "df['score_avg'] = g.mean()\n",
    "df['score_std'] = g.std()\n",
    "df['score_max'] = g.max()\n",
    "df['score_cnt'] = g.count()\n",
    "\n",
    "# Unique index\n",
    "df = df.loc[df['rnk'] == 1, :]\n",
    "df.drop('rnk', axis=1, inplace=True)\n",
    "\n",
    "# Join back onto base dataframe\n",
    "data = pd.merge(data, df[['camis', 'inspection_date', 'score', 'score_avg', 'score_std', \n",
    "                          'score_max', 'score_cnt', 'time_since_prev']], \n",
    "                how='left', on=['camis', 'inspection_date'], suffixes=('', '_prev'))\n",
    "\n",
    "# Fraction of year since previous visit\n",
    "data['time_since_prev'] = data['time_since_prev'].dt.days / 365\n",
    "\n",
    "# Set index\n",
    "data.set_index(['camis', 'inspection_date'], drop=False, verify_integrity=True, inplace=True)\n",
    "\n",
    "# Flag if first inspection\n",
    "data['first_inspection'] = data['time_since_prev'].apply(lambda row: 0 if row == row else 1)\n",
    "\n",
    "# Impute missing values\n",
    "cols = ['score_prev', 'score_avg', 'score_std', 'score_max', 'score_cnt', 'time_since_prev']\n",
    "imp = Imputer(missing_values=\"NaN\", strategy=\"mean\")\n",
    "data[cols] = imp.fit_transform(data[cols])\n"
   ]
  },
  {
   "cell_type": "markdown",
   "metadata": {},
   "source": [
    "**Restaurant category (Yelp data)**"
   ]
  },
  {
   "cell_type": "code",
   "execution_count": 40,
   "metadata": {
    "scrolled": false
   },
   "outputs": [],
   "source": [
    "# Large number of categories (~300) so drop categories\n",
    "# with observations lower than some threshold\n",
    "\n",
    "min_obs = 500\n",
    "\n",
    "cols = [c for c in data.columns if c[:3] == \"cat\"]\n",
    "for c in cols:\n",
    "    if data[c].sum() < min_obs:\n",
    "        data.drop(c, axis=1, inplace=True)\n",
    "        "
   ]
  },
  {
   "cell_type": "code",
   "execution_count": 41,
   "metadata": {},
   "outputs": [],
   "source": [
    "# Clean up column names (lowercase and no spaces)\n",
    "data.columns = [c.replace(\".\", \"_\").lower() for c in data.columns]\n",
    "\n",
    "# Reorder columns\n",
    "cols = list(data.columns)\n",
    "target_cols = ['grade', 'score', 'log_score']\n",
    "for c in target_cols:\n",
    "    cols.remove(c)\n",
    "    cols.append(c)\n",
    "data = data[cols]\n"
   ]
  },
  {
   "cell_type": "code",
   "execution_count": 42,
   "metadata": {},
   "outputs": [],
   "source": [
    "#Export data to csv\n",
    "#data.to_csv('data/model_data.csv')"
   ]
  },
  {
   "cell_type": "code",
   "execution_count": null,
   "metadata": {},
   "outputs": [],
   "source": []
  }
 ],
 "metadata": {
  "kernelspec": {
   "display_name": "Python [default]",
   "language": "python",
   "name": "python3"
  },
  "language_info": {
   "codemirror_mode": {
    "name": "ipython",
    "version": 3
   },
   "file_extension": ".py",
   "mimetype": "text/x-python",
   "name": "python",
   "nbconvert_exporter": "python",
   "pygments_lexer": "ipython3",
   "version": "3.6.4"
  }
 },
 "nbformat": 4,
 "nbformat_minor": 2
}
